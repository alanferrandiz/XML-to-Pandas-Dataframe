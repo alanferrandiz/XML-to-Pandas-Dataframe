{
 "cells": [
  {
   "cell_type": "code",
   "execution_count": null,
   "id": "1f6a5b3e",
   "metadata": {},
   "outputs": [],
   "source": [
    "import urllib.request as urllib2\n",
    "import xmltodict\n",
    "import pandas as pd\n",
    "import xml.etree.ElementTree as ET\n",
    "import io\n",
    "\n",
    "import xml.etree.cElementTree as ET\n",
    "\n",
    "\n",
    "\n",
    "etree = ET.ElementTree(file=urllib2.urlopen('https://www.w3schools.com/xml/note.xml'))\n",
    "root = etree.getroot()\n",
    "\n",
    "dfcols = []\n",
    "for child in root:\n",
    "    dfcols = dfcols + [child.tag]\n",
    "\n",
    "\n",
    "df = pd.DataFrame(columns=dfcols)\n",
    "\n",
    "for i in etree.iter(root.tag):\n",
    "    df = df.append(pd.Series([i[0].text, i[1].text, i[2].text, i[3].text], index=dfcols),ignore_index=True)\n",
    "\n",
    "    \n",
    "display(df)"
   ]
  }
 ],
 "metadata": {
  "kernelspec": {
   "display_name": "Python 3",
   "language": "python",
   "name": "python3"
  },
  "language_info": {
   "codemirror_mode": {
    "name": "ipython",
    "version": 3
   },
   "file_extension": ".py",
   "mimetype": "text/x-python",
   "name": "python",
   "nbconvert_exporter": "python",
   "pygments_lexer": "ipython3",
   "version": "3.8.8"
  }
 },
 "nbformat": 4,
 "nbformat_minor": 5
}
