{
 "cells": [
  {
   "cell_type": "code",
   "execution_count": null,
   "id": "9b607f59",
   "metadata": {},
   "outputs": [],
   "source": [
    "import urllib.request as urllib2\n",
    "import xml.etree.ElementTree as ET\n",
    "import pandas as pd\n",
    "import json\n",
    "\n",
    "## Try the code with these XML sample files\n",
    "## http://www-db.deis.unibo.it/courses/TW/DOCS/w3schools/xml/cd_catalog.xml\n",
    "## https://www.w3schools.com/xml/plant_catalog.xml\n",
    "## http://www-db.deis.unibo.it/courses/TW/DOCS/w3schools/xml/simple.xml\n",
    "\n",
    "etree = ET.ElementTree(file=urllib2.urlopen('http://www-db.deis.unibo.it/courses/TW/DOCS/w3schools/xml/cd_catalog.xml'))\n",
    "root = etree.getroot()\n",
    "\n",
    "dfcols = []\n",
    "      \n",
    "    \n",
    "column = 0\n",
    "while column < len(root[0]) - 1 :\n",
    "    dfcols = dfcols + [root[0][column].tag]\n",
    "    column += 1\n",
    "    \n",
    "df = pd.DataFrame(columns=dfcols)\n",
    "\n",
    "cadena = \"\"\n",
    "row = 0\n",
    "while row <= len(list(root)) - 1:\n",
    "    column = 0\n",
    "    dictvalues = \"{\"\n",
    "    while column < len(root[0]) - 1:\n",
    "        dictvalues = dictvalues + '\"' + root[row][column].tag + '\": \"' + root[row][column].text  + '\",'\n",
    "        column += 1\n",
    "    \n",
    "    dictvalues = dictvalues[0:len(dictvalues) - 1]\n",
    "    dictvalues = dictvalues + \"}\"\n",
    "    \n",
    "    df = df.append(json.loads(dictvalues), ignore_index = True) \n",
    "    \n",
    "    row += 1\n",
    "\n",
    "display(df)"
   ]
  }
 ],
 "metadata": {
  "kernelspec": {
   "display_name": "Python 3",
   "language": "python",
   "name": "python3"
  },
  "language_info": {
   "codemirror_mode": {
    "name": "ipython",
    "version": 3
   },
   "file_extension": ".py",
   "mimetype": "text/x-python",
   "name": "python",
   "nbconvert_exporter": "python",
   "pygments_lexer": "ipython3",
   "version": "3.8.8"
  }
 },
 "nbformat": 4,
 "nbformat_minor": 5
}
